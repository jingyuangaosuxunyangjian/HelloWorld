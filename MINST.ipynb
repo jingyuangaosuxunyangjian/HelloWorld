{
 "cells": [
  {
   "cell_type": "code",
   "execution_count": 6,
   "id": "8b62878e-ac57-4321-9b40-3bd1576fd76a",
   "metadata": {
    "execution": {
     "iopub.execute_input": "2021-09-28T05:00:39.931124Z",
     "iopub.status.busy": "2021-09-28T05:00:39.930782Z",
     "iopub.status.idle": "2021-09-28T05:00:45.958429Z",
     "shell.execute_reply": "2021-09-28T05:00:45.957308Z",
     "shell.execute_reply.started": "2021-09-28T05:00:39.931072Z"
    }
   },
   "outputs": [
    {
     "data": {
      "text/plain": [
       "<Figure size 432x288 with 0 Axes>"
      ]
     },
     "metadata": {},
     "output_type": "display_data"
    },
    {
     "data": {
      "image/png": "[encoded data removed]",
      "text/plain": [
       "<Figure size 144x144 with 1 Axes>"
      ]
     },
     "metadata": {
      "needs_background": "light"
     },
     "output_type": "display_data"
    }
   ],
   "source": [
    "import paddle\n",
    "from paddle.nn import Linear\n",
    "import paddle.nn.functional as F \n",
    "import os\n",
    "import numpy as np \n",
    "import matplotlib.pyplot as plt \n",
    "\n",
    "train_dataset = paddle.vision.MNIST(mode = 'train')\n",
    "\n",
    "train_data0 = np.array(train_dataset[0][0])\n",
    "train_label_0 = np.array(train_dataset[0][1])\n",
    "plt.figure(\"image\")\n",
    "plt.figure(figsize = (2,2))\n",
    "plt.imshow(train_data0, cmap=plt.cm.binary)\n",
    "plt.axis('on')\n",
    "plt.title('image')\n",
    "plt.show()\n",
    "\n",
    "print(train_data0.shape)\n",
    "print(train_label_0.shape, train_label_0)\n",
    "\n",
    "class MINST(paddle.nn.Layer):\n",
    "    def __init__(self):\n",
    "        super(MINST, self).__init__()\n",
    "\n",
    "        self.fc = paddle.nn.Linear(in_features = 784, out_features = 1)\n",
    "\n",
    "    def forward(self, inputs):\n",
    "        outputs = self.fc(inputs)\n",
    "        return outputs\n",
    "\n",
    "model = MINST\n",
    "\n",
    "def train(model):\n",
    "    model.train()\n",
    "    "
   ]
  }
 ],
 "metadata": {
  "kernelspec": {
   "display_name": "Python 3",
   "language": "python",
   "name": "py35-paddle1.2.0"
  },
  "language_info": {
   "codemirror_mode": {
    "name": "ipython",
    "version": 3
   },
   "file_extension": ".py",
   "mimetype": "text/x-python",
   "name": "python",
   "nbconvert_exporter": "python",
   "pygments_lexer": "ipython3",
   "version": "3.7.4"
  }
 },
 "nbformat": 4,
 "nbformat_minor": 5
}
