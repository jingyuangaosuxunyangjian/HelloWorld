{
 "cells": [
  {
   "cell_type": "code",
   "execution_count": 3,
   "id": "e78a0d12-1ea1-4445-a21a-874121cf19f8",
   "metadata": {
    "execution": {
     "iopub.execute_input": "2021-09-30T14:57:10.732537Z",
     "iopub.status.busy": "2021-09-30T14:57:10.732106Z",
     "iopub.status.idle": "2021-09-30T14:58:14.910320Z",
     "shell.execute_reply": "2021-09-30T14:58:14.909427Z",
     "shell.execute_reply.started": "2021-09-30T14:57:10.732466Z"
    }
   },
   "outputs": [
    {
     "data": {
      "text/plain": [
       "<Figure size 432x288 with 0 Axes>"
      ]
     },
     "metadata": {},
     "output_type": "display_data"
    },
    {
     "data": {
      "image/png": "[encoded data removed]",
      "text/plain": [
       "<Figure size 144x144 with 1 Axes>"
      ]
     },
     "metadata": {
      "needs_background": "light"
     },
     "output_type": "display_data"
    },
    {
     "name": "stdout",
     "output_type": "stream",
     "text": [
      "(28, 28)\n",
      "(1,) [5]\n",
      "epoch_id: 0, batch_id: 0, loss is: [34.37484]\n",
      "epoch_id: 0, batch_id: 1000, loss is: [4.1913815]\n",
      "epoch_id: 0, batch_id: 2000, loss is: [3.4618134]\n",
      "epoch_id: 0, batch_id: 3000, loss is: [4.365093]\n",
      "epoch_id: 1, batch_id: 0, loss is: [3.3210442]\n",
      "epoch_id: 1, batch_id: 1000, loss is: [2.9917054]\n",
      "epoch_id: 1, batch_id: 2000, loss is: [2.271727]\n",
      "epoch_id: 1, batch_id: 3000, loss is: [5.059434]\n",
      "epoch_id: 2, batch_id: 0, loss is: [3.4616656]\n",
      "epoch_id: 2, batch_id: 1000, loss is: [3.1617274]\n",
      "epoch_id: 2, batch_id: 2000, loss is: [1.5147847]\n",
      "epoch_id: 2, batch_id: 3000, loss is: [3.7541935]\n",
      "epoch_id: 3, batch_id: 0, loss is: [4.4749246]\n",
      "epoch_id: 3, batch_id: 1000, loss is: [2.3701115]\n",
      "epoch_id: 3, batch_id: 2000, loss is: [2.508112]\n",
      "epoch_id: 3, batch_id: 3000, loss is: [3.191308]\n",
      "epoch_id: 4, batch_id: 0, loss is: [3.352005]\n",
      "epoch_id: 4, batch_id: 1000, loss is: [2.1335876]\n",
      "epoch_id: 4, batch_id: 2000, loss is: [3.9753191]\n",
      "epoch_id: 4, batch_id: 3000, loss is: [2.9813871]\n",
      "epoch_id: 5, batch_id: 0, loss is: [5.067207]\n",
      "epoch_id: 5, batch_id: 1000, loss is: [2.0498533]\n",
      "epoch_id: 5, batch_id: 2000, loss is: [2.8178887]\n",
      "epoch_id: 5, batch_id: 3000, loss is: [2.0556228]\n",
      "epoch_id: 6, batch_id: 0, loss is: [1.1342082]\n",
      "epoch_id: 6, batch_id: 1000, loss is: [2.3524842]\n",
      "epoch_id: 6, batch_id: 2000, loss is: [3.2003493]\n",
      "epoch_id: 6, batch_id: 3000, loss is: [2.7908463]\n",
      "epoch_id: 7, batch_id: 0, loss is: [3.5890498]\n",
      "epoch_id: 7, batch_id: 1000, loss is: [3.4061086]\n",
      "epoch_id: 7, batch_id: 2000, loss is: [2.1072576]\n",
      "epoch_id: 7, batch_id: 3000, loss is: [1.4865456]\n",
      "epoch_id: 8, batch_id: 0, loss is: [2.800066]\n",
      "epoch_id: 8, batch_id: 1000, loss is: [2.430818]\n",
      "epoch_id: 8, batch_id: 2000, loss is: [4.948736]\n",
      "epoch_id: 8, batch_id: 3000, loss is: [1.4618431]\n",
      "epoch_id: 9, batch_id: 0, loss is: [3.222714]\n",
      "epoch_id: 9, batch_id: 1000, loss is: [5.273935]\n",
      "epoch_id: 9, batch_id: 2000, loss is: [3.2068946]\n",
      "epoch_id: 9, batch_id: 3000, loss is: [2.253149]\n"
     ]
    }
   ],
   "source": [
    "import paddle\n",
    "from paddle.nn import Linear\n",
    "import paddle.nn.functional as F \n",
    "import os\n",
    "import numpy as np \n",
    "import matplotlib.pyplot as plt \n",
    "\n",
    "train_dataset = paddle.vision.MNIST(mode='train')\n",
    "\n",
    "train_data0 = np.array(train_dataset[0][0])\n",
    "train_label_0 = np.array(train_dataset[0][1])\n",
    "plt.figure(\"image\")\n",
    "plt.figure(figsize = (2,2))\n",
    "plt.imshow(train_data0, cmap=plt.cm.binary)\n",
    "plt.axis('on')\n",
    "plt.title('image')\n",
    "plt.show()\n",
    "\n",
    "print(train_data0.shape)\n",
    "print(train_label_0.shape, train_label_0)\n",
    "\n",
    "class MINST(paddle.nn.Layer):\n",
    "    def __init__(self):\n",
    "        super(MINST, self).__init__()\n",
    "\n",
    "        self.fc = paddle.nn.Linear(in_features=784, out_features=1)\n",
    "\n",
    "    def forward(self, inputs):\n",
    "        outputs = self.fc(inputs)\n",
    "        return outputs\n",
    "\n",
    "def norm_img(img):\n",
    "    assert len(img.shape) == 3\n",
    "    batch_size, img_h, img_w = img.shape[0], img.shape[1], img.shape[2]\n",
    "    img = img / 255\n",
    "    img = paddle.reshape(img, [batch_size, img_h*img_w])\n",
    "    \n",
    "    return img\n",
    "\n",
    "paddle.vision.set_image_backend('cv2')\n",
    "model = MINST()\n",
    "\n",
    "def train(model):\n",
    "    model.train()\n",
    "    train_loader = paddle.io.DataLoader(paddle.vision.datasets.MNIST(mode='train'),\n",
    "    \t\t\t\t\t\t\t\t\tbatch_size=16,\n",
    "                                        shuffle=True)\n",
    "    opt = paddle.optimizer.SGD(learning_rate=0.001, parameters=model.parameters())\n",
    "    EPOCH_NUM = 10\n",
    "    for epoch in range(EPOCH_NUM):\n",
    "        for batch_id, data in enumerate(train_loader()):\n",
    "            images = norm_img(data[0]).astype('float32')\n",
    "            labels = data[1].astype('float32')\n",
    "\n",
    "            predicts = model(images)\n",
    "\n",
    "            loss = F.square_error_cost(predicts, labels)\n",
    "            avg_loss = paddle.mean(loss)\n",
    "\n",
    "            if batch_id % 1000 == 0:\n",
    "                print(\"epoch_id: {}, batch_id: {}, loss is: {}\".format(epoch, batch_id, avg_loss.numpy()))\n",
    "\n",
    "            avg_loss.backward()\n",
    "            opt.step()\n",
    "            opt.clear_grad()\n",
    "\n",
    "train(model)\n",
    "paddle.save(model.state_dict(), './mnist.pdparams')"
   ]
  },
  {
   "cell_type": "code",
   "execution_count": 6,
   "id": "a8924008-ae1a-4029-afdd-88326a5cc287",
   "metadata": {
    "execution": {
     "iopub.execute_input": "2021-09-30T15:01:16.004727Z",
     "iopub.status.busy": "2021-09-30T15:01:16.004340Z",
     "iopub.status.idle": "2021-09-30T15:01:16.041554Z",
     "shell.execute_reply": "2021-09-30T15:01:16.040229Z",
     "shell.execute_reply.started": "2021-09-30T15:01:16.004665Z"
    }
   },
   "outputs": [
    {
     "name": "stdout",
     "output_type": "stream",
     "text": [
      "result Tensor(shape=[1, 1], dtype=float32, place=CPUPlace, stop_gradient=False,\n",
      "       [[5.66253710]])\n",
      "本次预测的数字是 [[5]]\n"
     ]
    }
   ],
   "source": [
    "import matplotlib.pyplot as plt \n",
    "import numpy as np \n",
    "from PIL import Image\n",
    "\n",
    "def load_image(img_path):\n",
    "    im = Image.open(img_path).convert('L')\n",
    "    im = im.resize((28, 28), Image.ANTIALIAS)\n",
    "    im = np.array(im).reshape(1, -1).astype(np.float32)\n",
    "    im = 1 - im / 255\n",
    "    return im\n",
    "\n",
    "model = MINST()\n",
    "params_file_path = 'mnist.pdparams'\n",
    "img_path = './test_3_2.jpg'\n",
    "param_dict = paddle.load(params_file_path)\n",
    "model.load_dict(param_dict)\n",
    "model.eval()\n",
    "tensor_img = load_image(img_path)\n",
    "result = model(paddle.to_tensor(tensor_img))\n",
    "print('result',result)\n",
    "print(\"本次预测的数字是\", result.numpy().astype('int32'))"
   ]
  },
  {
   "cell_type": "markdown",
   "id": "d8827c4c-00c2-4b5a-91e3-db1d62304847",
   "metadata": {},
   "source": [
    "上面的代码抄自PaddlePaddle的官方教程，注释我懒得写了，去官网找吧\n",
    "\n",
    "这种方式没有经过预处理，直接接入网络，效果实在感人，我写了四个数字，没有一个识别对的，下面分析一下原因。\n",
    "\n",
    "首先，这个问题并不是一个线性的问题，而我们的网络是一个单层的，也就是线性分类器，我们再用一个线性的东西去拟合一个非线性的，所以效果就会很不好。\n",
    "\n",
    "下面对解决方案提出一些解决方案的猜想\n",
    "- 进行预处理，让问题趋近于线性问题\n",
    "- 增加网络的复杂度，去拟合非线性的问题\n",
    "- 先提取特征再进行分类"
   ]
  },
  {
   "cell_type": "markdown",
   "id": "8bcaf0d7-c908-48d0-aebb-355cc926f77a",
   "metadata": {},
   "source": [
    "我们先尝试预处理的方案"
   ]
  },
  {
   "cell_type": "code",
   "execution_count": null,
   "id": "33759a94-77f9-48a1-a13b-6b5d2008f223",
   "metadata": {},
   "outputs": [],
   "source": []
  }
 ],
 "metadata": {
  "kernelspec": {
   "display_name": "Python 3",
   "language": "python",
   "name": "py35-paddle1.2.0"
  },
  "language_info": {
   "codemirror_mode": {
    "name": "ipython",
    "version": 3
   },
   "file_extension": ".py",
   "mimetype": "text/x-python",
   "name": "python",
   "nbconvert_exporter": "python",
   "pygments_lexer": "ipython3",
   "version": "3.7.4"
  }
 },
 "nbformat": 4,
 "nbformat_minor": 5
}
