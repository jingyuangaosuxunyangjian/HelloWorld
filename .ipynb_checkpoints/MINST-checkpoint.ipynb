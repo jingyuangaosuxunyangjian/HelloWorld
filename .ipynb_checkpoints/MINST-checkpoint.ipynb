{
 "cells": [
  {
   "cell_type": "code",
   "execution_count": 1,
   "id": "e78a0d12-1ea1-4445-a21a-874121cf19f8",
   "metadata": {
    "execution": {
     "iopub.execute_input": "2021-10-01T04:12:22.188600Z",
     "iopub.status.busy": "2021-10-01T04:12:22.188018Z",
     "iopub.status.idle": "2021-10-01T04:13:41.432348Z",
     "shell.execute_reply": "2021-10-01T04:13:41.431523Z",
     "shell.execute_reply.started": "2021-10-01T04:12:22.188346Z"
    }
   },
   "outputs": [
    {
     "name": "stderr",
     "output_type": "stream",
     "text": [
      "/opt/conda/envs/python35-paddle120-env/lib/python3.7/site-packages/matplotlib/__init__.py:107: DeprecationWarning: Using or importing the ABCs from 'collections' instead of from 'collections.abc' is deprecated, and in 3.8 it will stop working\n",
      "  from collections import MutableMapping\n",
      "/opt/conda/envs/python35-paddle120-env/lib/python3.7/site-packages/matplotlib/rcsetup.py:20: DeprecationWarning: Using or importing the ABCs from 'collections' instead of from 'collections.abc' is deprecated, and in 3.8 it will stop working\n",
      "  from collections import Iterable, Mapping\n",
      "/opt/conda/envs/python35-paddle120-env/lib/python3.7/site-packages/matplotlib/colors.py:53: DeprecationWarning: Using or importing the ABCs from 'collections' instead of from 'collections.abc' is deprecated, and in 3.8 it will stop working\n",
      "  from collections import Sized\n",
      "Cache file /home/aistudio/.cache/paddle/dataset/mnist/train-images-idx3-ubyte.gz not found, downloading https://dataset.bj.bcebos.com/mnist/train-images-idx3-ubyte.gz \n",
      "Begin to download\n",
      "\n",
      "Download finished\n",
      "Cache file /home/aistudio/.cache/paddle/dataset/mnist/train-labels-idx1-ubyte.gz not found, downloading https://dataset.bj.bcebos.com/mnist/train-labels-idx1-ubyte.gz \n",
      "Begin to download\n",
      "........\n",
      "Download finished\n",
      "/opt/conda/envs/python35-paddle120-env/lib/python3.7/site-packages/matplotlib/cbook/__init__.py:2349: DeprecationWarning: Using or importing the ABCs from 'collections' instead of from 'collections.abc' is deprecated, and in 3.8 it will stop working\n",
      "  if isinstance(obj, collections.Iterator):\n",
      "/opt/conda/envs/python35-paddle120-env/lib/python3.7/site-packages/matplotlib/cbook/__init__.py:2366: DeprecationWarning: Using or importing the ABCs from 'collections' instead of from 'collections.abc' is deprecated, and in 3.8 it will stop working\n",
      "  return list(data) if isinstance(data, collections.MappingView) else data\n"
     ]
    },
    {
     "data": {
      "text/plain": [
       "<Figure size 640x480 with 0 Axes>"
      ]
     },
     "metadata": {},
     "output_type": "display_data"
    },
    {
     "data": {
      "text/plain": [
       "<Figure size 200x200 with 1 Axes>"
      ]
     },
     "metadata": {},
     "output_type": "display_data"
    },
    {
     "name": "stdout",
     "output_type": "stream",
     "text": [
      "(28, 28)\n",
      "(1,) [5]\n",
      "epoch_id: 0, batch_id: 0, loss is: [24.17081]\n",
      "epoch_id: 0, batch_id: 1000, loss is: [6.1012945]\n",
      "epoch_id: 0, batch_id: 2000, loss is: [3.437141]\n",
      "epoch_id: 0, batch_id: 3000, loss is: [4.7619586]\n",
      "epoch_id: 1, batch_id: 0, loss is: [2.7009315]\n",
      "epoch_id: 1, batch_id: 1000, loss is: [5.4384317]\n",
      "epoch_id: 1, batch_id: 2000, loss is: [7.0992355]\n",
      "epoch_id: 1, batch_id: 3000, loss is: [6.423353]\n",
      "epoch_id: 2, batch_id: 0, loss is: [3.2361295]\n",
      "epoch_id: 2, batch_id: 1000, loss is: [2.7508123]\n",
      "epoch_id: 2, batch_id: 2000, loss is: [3.2890706]\n",
      "epoch_id: 2, batch_id: 3000, loss is: [2.1821034]\n",
      "epoch_id: 3, batch_id: 0, loss is: [2.7637496]\n",
      "epoch_id: 3, batch_id: 1000, loss is: [4.972919]\n",
      "epoch_id: 3, batch_id: 2000, loss is: [4.1873517]\n",
      "epoch_id: 3, batch_id: 3000, loss is: [1.5099475]\n",
      "epoch_id: 4, batch_id: 0, loss is: [3.4767349]\n",
      "epoch_id: 4, batch_id: 1000, loss is: [1.3766259]\n",
      "epoch_id: 4, batch_id: 2000, loss is: [4.38985]\n",
      "epoch_id: 4, batch_id: 3000, loss is: [6.023461]\n",
      "epoch_id: 5, batch_id: 0, loss is: [4.6090097]\n",
      "epoch_id: 5, batch_id: 1000, loss is: [4.402407]\n",
      "epoch_id: 5, batch_id: 2000, loss is: [1.9694829]\n",
      "epoch_id: 5, batch_id: 3000, loss is: [3.4993515]\n",
      "epoch_id: 6, batch_id: 0, loss is: [2.702816]\n",
      "epoch_id: 6, batch_id: 1000, loss is: [5.0139494]\n",
      "epoch_id: 6, batch_id: 2000, loss is: [5.53297]\n",
      "epoch_id: 6, batch_id: 3000, loss is: [2.6469631]\n",
      "epoch_id: 7, batch_id: 0, loss is: [2.783302]\n",
      "epoch_id: 7, batch_id: 1000, loss is: [2.1990578]\n",
      "epoch_id: 7, batch_id: 2000, loss is: [3.016173]\n",
      "epoch_id: 7, batch_id: 3000, loss is: [3.3401923]\n",
      "epoch_id: 8, batch_id: 0, loss is: [2.1823964]\n",
      "epoch_id: 8, batch_id: 1000, loss is: [4.1001472]\n",
      "epoch_id: 8, batch_id: 2000, loss is: [1.9123113]\n",
      "epoch_id: 8, batch_id: 3000, loss is: [8.094698]\n",
      "epoch_id: 9, batch_id: 0, loss is: [2.780116]\n",
      "epoch_id: 9, batch_id: 1000, loss is: [2.7456484]\n",
      "epoch_id: 9, batch_id: 2000, loss is: [3.4760313]\n",
      "epoch_id: 9, batch_id: 3000, loss is: [2.8829608]\n"
     ]
    }
   ],
   "source": [
    "import paddle\n",
    "from paddle.nn import Linear\n",
    "import paddle.nn.functional as F \n",
    "import os\n",
    "import numpy as np \n",
    "import matplotlib.pyplot as plt \n",
    "\n",
    "train_dataset = paddle.vision.MNIST(mode='train')\n",
    "\n",
    "train_data0 = np.array(train_dataset[0][0])\n",
    "train_label_0 = np.array(train_dataset[0][1])\n",
    "plt.figure(\"image\")\n",
    "plt.figure(figsize = (2,2))\n",
    "plt.imshow(train_data0, cmap=plt.cm.binary)\n",
    "plt.axis('on')\n",
    "plt.title('image')\n",
    "plt.show()\n",
    "\n",
    "print(train_data0.shape)\n",
    "print(train_label_0.shape, train_label_0)\n",
    "\n",
    "class MINST(paddle.nn.Layer):\n",
    "    def __init__(self):\n",
    "        super(MINST, self).__init__()\n",
    "\n",
    "        self.fc = paddle.nn.Linear(in_features=784, out_features=1)\n",
    "\n",
    "    def forward(self, inputs):\n",
    "        outputs = self.fc(inputs)\n",
    "        return outputs\n",
    "\n",
    "def norm_img(img):\n",
    "    assert len(img.shape) == 3\n",
    "    batch_size, img_h, img_w = img.shape[0], img.shape[1], img.shape[2]\n",
    "    img = img / 255\n",
    "    img = paddle.reshape(img, [batch_size, img_h*img_w])\n",
    "    \n",
    "    return img\n",
    "\n",
    "paddle.vision.set_image_backend('cv2')\n",
    "model = MINST()\n",
    "\n",
    "def train(model):\n",
    "    model.train()\n",
    "    train_loader = paddle.io.DataLoader(paddle.vision.datasets.MNIST(mode='train'),\n",
    "    \t\t\t\t\t\t\t\t\tbatch_size=16,\n",
    "                                        shuffle=True)\n",
    "    opt = paddle.optimizer.SGD(learning_rate=0.001, parameters=model.parameters())\n",
    "    EPOCH_NUM = 10\n",
    "    for epoch in range(EPOCH_NUM):\n",
    "        for batch_id, data in enumerate(train_loader()):\n",
    "            images = norm_img(data[0]).astype('float32')\n",
    "            labels = data[1].astype('float32')\n",
    "\n",
    "            predicts = model(images)\n",
    "\n",
    "            loss = F.square_error_cost(predicts, labels)\n",
    "            avg_loss = paddle.mean(loss)\n",
    "\n",
    "            if batch_id % 1000 == 0:\n",
    "                print(\"epoch_id: {}, batch_id: {}, loss is: {}\".format(epoch, batch_id, avg_loss.numpy()))\n",
    "\n",
    "            avg_loss.backward()\n",
    "            opt.step()\n",
    "            opt.clear_grad()\n",
    "\n",
    "train(model)\n",
    "paddle.save(model.state_dict(), './mnist.pdparams')"
   ]
  },
  {
   "cell_type": "code",
   "execution_count": 2,
   "id": "a8924008-ae1a-4029-afdd-88326a5cc287",
   "metadata": {
    "execution": {
     "iopub.execute_input": "2021-10-01T04:13:55.463503Z",
     "iopub.status.busy": "2021-10-01T04:13:55.462912Z",
     "iopub.status.idle": "2021-10-01T04:13:55.500350Z",
     "shell.execute_reply": "2021-10-01T04:13:55.499519Z",
     "shell.execute_reply.started": "2021-10-01T04:13:55.463237Z"
    }
   },
   "outputs": [
    {
     "name": "stdout",
     "output_type": "stream",
     "text": [
      "result Tensor(shape=[1, 1], dtype=float32, place=CUDAPlace(0), stop_gradient=False,\n",
      "       [[5.69317341]])\n",
      "本次预测的数字是 [[5]]\n"
     ]
    }
   ],
   "source": [
    "import matplotlib.pyplot as plt \n",
    "import numpy as np \n",
    "from PIL import Image\n",
    "\n",
    "def load_image(img_path):\n",
    "    im = Image.open(img_path).convert('L')\n",
    "    im = im.resize((28, 28), Image.ANTIALIAS)\n",
    "    im = np.array(im).reshape(1, -1).astype(np.float32)\n",
    "    im = 1 - im / 255\n",
    "    return im\n",
    "\n",
    "model = MINST()\n",
    "params_file_path = 'mnist.pdparams'\n",
    "img_path = './test_3_2.jpg'\n",
    "param_dict = paddle.load(params_file_path)\n",
    "model.load_dict(param_dict)\n",
    "model.eval()\n",
    "tensor_img = load_image(img_path)\n",
    "result = model(paddle.to_tensor(tensor_img))\n",
    "print('result',result)\n",
    "print(\"本次预测的数字是\", result.numpy().astype('int32'))"
   ]
  },
  {
   "cell_type": "markdown",
   "id": "d8827c4c-00c2-4b5a-91e3-db1d62304847",
   "metadata": {},
   "source": [
    "上面的代码抄自PaddlePaddle的官方教程，注释我懒得写了，去官网找吧\n",
    "\n",
    "这种方式没有经过预处理，直接接入网络，效果实在感人，我写了四个数字，没有一个识别对的，下面分析一下原因。\n",
    "\n",
    "首先，这个问题并不是一个线性的问题，而我们的网络是一个单层的，也就是线性分类器，我们再用一个线性的东西去拟合一个非线性的，所以效果就会很不好。\n",
    "\n",
    "下面对解决方案提出一些解决方案的猜想\n",
    "- 进行预处理，让问题趋近于线性问题\n",
    "- 增加网络的复杂度，去拟合非线性的问题\n",
    "- 先提取特征再进行分类"
   ]
  },
  {
   "cell_type": "markdown",
   "id": "8bcaf0d7-c908-48d0-aebb-355cc926f77a",
   "metadata": {},
   "source": [
    "我们先尝试预处理的方案，这里需要在喂数据前进行预处理，我们对训练函数进行修改，并增加预处理函数before_train，需要opencv环境"
   ]
  },
  {
   "cell_type": "code",
   "execution_count": null,
   "id": "33759a94-77f9-48a1-a13b-6b5d2008f223",
   "metadata": {},
   "outputs": [],
   "source": [
    "import cv2\n",
    "\n",
    "def norm_img_2(img):\n",
    "    #print(img)\n",
    "    assert len(img.shape) == 3\n",
    "    batch_size, img_h, img_w = img.shape[0], img.shape[1], img.shape[2]\n",
    "    #img.save(\"mid.jpg\")\n",
    "    #img2 = np.float32(img)\n",
    "    #print(type(img2))\n",
    "    #img2 = cv2.imread(\"mid.jpg\")\n",
    "    img2 = img\n",
    "    img2 = np.squeeze(img2, 0)\n",
    "    img2 = np.uint8(img2)\n",
    "    #print(img2.shape)\n",
    "    #mid = Image.fromarray(img2)\n",
    "    #mid.save(\"mid.png\")\n",
    "    cv2.imwrite(\"mid.png\",img2)\n",
    "    #img2 = cv2.cvtColor(np.asarray(img2), cv2.COLOR_RGB2GRAY)\n",
    "    ret, thresh = cv2.threshold(img2, 230, 255, cv2.THRESH_BINARY_INV)#二值化，黑白反转\n",
    "    contours, hierarchy = cv2.findContours(thresh, cv2.RETR_TREE, cv2.CHAIN_APPROX_SIMPLE)#找到边界\n",
    "    x, y, w, h = cv2.boundingRect(contours[0])#获取边界信息\n",
    "    img = paddle.vision.transforms.crop(img, 26 - y, x, h, w)\n",
    "    #img = paddle.vision.transforms.to_tensor(img)\n",
    "    img = paddle.vision.resize(img,(28,28))\n",
    "    img = img / 255\n",
    "    img = paddle.reshape(img, [batch_size, img_h*img_w])\n",
    "    \n",
    "    return img\n",
    "\n",
    "def train_2(model):\n",
    "    model.train()\n",
    "    train_loader = paddle.io.DataLoader(paddle.vision.datasets.MNIST(mode='train'),\n",
    "    \t\t\t\t\t\t\t\t\tbatch_size=1,\n",
    "                                        shuffle=True)\n",
    "    opt = paddle.optimizer.SGD(learning_rate=0.001, parameters=model.parameters())\n",
    "    EPOCH_NUM = 10\n",
    "    for epoch in range(EPOCH_NUM):\n",
    "        for batch_id, data in enumerate(train_loader()):\n",
    "            #主要修改这里喂进去的图像\n",
    "            images = norm_img_2(data[0]).astype('float32')\n",
    "            labels = data[1].astype('float32')\n",
    "            predicts = model(images)\n",
    "\n",
    "            loss = F.square_error_cost(predicts, labels)\n",
    "            avg_loss = paddle.mean(loss)\n",
    "\n",
    "            if batch_id % 1000 == 0:\n",
    "                print(\"epoch_id: {}, batch_id: {}, loss is: {}\".format(epoch, batch_id, avg_loss.numpy()))\n",
    "\n",
    "            avg_loss.backward()\n",
    "            opt.step()\n",
    "            opt.clear_grad()\n",
    "\n",
    "def before_train(image):\n",
    "    pass\n",
    "\n",
    "#img = load_image(\"test_3_2.jpg\")\n",
    "train_2(model)\n",
    "\n",
    "#train(model)\n",
    "#paddle.save(model.state_dict(), './mnist.pdparams')"
   ]
  },
  {
   "cell_type": "code",
   "execution_count": 14,
   "id": "b1d55bb1-433d-4c96-856a-a13891ac5673",
   "metadata": {
    "execution": {
     "iopub.execute_input": "2021-10-01T03:34:39.116380Z",
     "iopub.status.busy": "2021-10-01T03:34:39.116022Z",
     "iopub.status.idle": "2021-10-01T03:34:39.147991Z",
     "shell.execute_reply": "2021-10-01T03:34:39.147272Z",
     "shell.execute_reply.started": "2021-10-01T03:34:39.116330Z"
    }
   },
   "outputs": [
    {
     "name": "stdout",
     "output_type": "stream",
     "text": [
      "[[248 247 249 ... 248 248 248]\n",
      " [249 248 249 ... 247 247 247]\n",
      " [250 248 248 ... 252 252 251]\n",
      " ...\n",
      " [249 249 250 ... 249 248 247]\n",
      " [250 250 250 ... 250 249 248]\n",
      " [251 251 251 ... 251 250 250]]\n"
     ]
    }
   ],
   "source": [
    "import cv2\n",
    "img = cv2.imread(\"test_1.jpg\")\n",
    "img = cv2.cvtColor(img, cv2.COLOR_RGB2GRAY)\n",
    "print(img)\n",
    "cv2.imwrite(\"img.jpg\",img)\n",
    "\n",
    "paddle.save(model.state_dict(), './mnist_2.pdparams')"
   ]
  },
  {
   "cell_type": "code",
   "execution_count": 16,
   "id": "261f71a9-2701-49d1-b0c4-ebb55449382d",
   "metadata": {
    "execution": {
     "iopub.execute_input": "2021-10-01T03:35:26.064809Z",
     "iopub.status.busy": "2021-10-01T03:35:26.064454Z",
     "iopub.status.idle": "2021-10-01T03:35:26.105310Z",
     "shell.execute_reply": "2021-10-01T03:35:26.104600Z",
     "shell.execute_reply.started": "2021-10-01T03:35:26.064760Z"
    }
   },
   "outputs": [
    {
     "name": "stdout",
     "output_type": "stream",
     "text": [
      "result Tensor(shape=[1, 1], dtype=float32, place=CUDAPlace(0), stop_gradient=False,\n",
      "       [[11.37663651]])\n",
      "本次预测的数字是 [[11]]\n"
     ]
    }
   ],
   "source": [
    "def load_image_2(img_path):\n",
    "    im = Image.open(img_path).convert('L')\n",
    "    img2 = im\n",
    "    img2 = np.squeeze(img2, 0)\n",
    "    img2 = np.uint8(img2)\n",
    "    #print(img2.shape)\n",
    "    #mid = Image.fromarray(img2)\n",
    "    #mid.save(\"mid.png\")\n",
    "    cv2.imwrite(\"mid.png\",img2)\n",
    "    #img2 = cv2.cvtColor(np.asarray(img2), cv2.COLOR_RGB2GRAY)\n",
    "    ret, thresh = cv2.threshold(img2, 230, 255, cv2.THRESH_BINARY_INV)#二值化，黑白反转\n",
    "    contours, hierarchy = cv2.findContours(thresh, cv2.RETR_TREE, cv2.CHAIN_APPROX_SIMPLE)#找到边界\n",
    "    x, y, w, h = cv2.boundingRect(contours[0])#获取边界信息\n",
    "    img = paddle.vision.transforms.crop(img, 20, 3, 10, 10)\n",
    "    #img = paddle.vision.transforms.to_tensor(img)\n",
    "    #im = paddle.vision.resize(im,(28,28))\n",
    "    im = im.resize((28, 28), Image.ANTIALIAS)\n",
    "    im = np.array(im).reshape(1, -1).astype(np.float32)\n",
    "    im = 1 - im / 255\n",
    "    return im\n",
    "\n",
    "model = MINST()\n",
    "params_file_path = 'mnist_2.pdparams'\n",
    "img_path = './test_2.jpg'\n",
    "param_dict = paddle.load(params_file_path)\n",
    "model.load_dict(param_dict)\n",
    "model.eval()\n",
    "tensor_img = load_image(img_path)\n",
    "result = model(paddle.to_tensor(tensor_img))\n",
    "print('result',result)\n",
    "print(\"本次预测的数字是\", result.numpy().astype('int32'))"
   ]
  },
  {
   "cell_type": "markdown",
   "id": "2777eaf9-a93b-4900-9aa8-ccc3a6959863",
   "metadata": {},
   "source": [
    "增加预处理的结果更加离谱数字是“11“可还行。\n",
    "\n",
    "分析原因：这是在用一套网络分类10个数字，问题仍然是非线性的，如果只判断是或不是，按照经验应该是线性问题。\n",
    "\n",
    "试验结果：经过预处理，这个问题仍然是非线性问题。"
   ]
  }
 ],
 "metadata": {
  "kernelspec": {
   "display_name": "Python 3",
   "language": "python",
   "name": "py35-paddle1.2.0"
  },
  "language_info": {
   "codemirror_mode": {
    "name": "ipython",
    "version": 3
   },
   "file_extension": ".py",
   "mimetype": "text/x-python",
   "name": "python",
   "nbconvert_exporter": "python",
   "pygments_lexer": "ipython3",
   "version": "3.7.4"
  }
 },
 "nbformat": 4,
 "nbformat_minor": 5
}
